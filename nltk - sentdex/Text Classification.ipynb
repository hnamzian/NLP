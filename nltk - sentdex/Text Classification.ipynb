{
 "cells": [
  {
   "cell_type": "code",
   "execution_count": 117,
   "metadata": {},
   "outputs": [],
   "source": [
    "import nltk\n",
    "import random\n",
    "from nltk.corpus import movie_reviews\n",
    "from nltk.classify.scikitlearn import SklearnClassifier\n",
    "from sklearn.naive_bayes import MultinomialNB, GaussianNB, BernoulliNB\n",
    "from sklearn.linear_model import LogisticRegression, SGDClassifier\n",
    "from sklearn.svm import SVC, LinearSVC, NuSVC\n",
    "from sklearn.tree import DecisionTreeClassifier\n",
    "from sklearn.ensemble import RandomForestClassifier\n",
    "from sklearn.ensemble import GradientBoostingClassifier\n",
    "from nltk.classify import ClassifierI\n",
    "from scipy.stats import mode"
   ]
  },
  {
   "cell_type": "code",
   "execution_count": 38,
   "metadata": {},
   "outputs": [
    {
     "name": "stdout",
     "output_type": "stream",
     "text": [
      "[u'neg', u'pos']\n",
      "1583820\n",
      "39768\n"
     ]
    }
   ],
   "source": [
    "print movie_reviews.categories()\n",
    "print len(movie_reviews.words())\n",
    "print len(set(movie_reviews.words()))"
   ]
  },
  {
   "cell_type": "code",
   "execution_count": 36,
   "metadata": {},
   "outputs": [
    {
     "data": {
      "text/plain": [
       "2000"
      ]
     },
     "execution_count": 36,
     "metadata": {},
     "output_type": "execute_result"
    }
   ],
   "source": [
    "documents = [(list(movie_reviews.words(fileid)), category)\n",
    "            for category in movie_reviews.categories()\n",
    "            for fileid in movie_reviews.fileids(category)]\n",
    "\n",
    "# or more plainly:\n",
    "#for category in movie_reviews.categories():\n",
    "#    for fileid in movie_reviews.fileids(category):\n",
    "#        (list(movie_reviews.words(fileid)), category)\n",
    "\n",
    "random.shuffle(documents)\n",
    "len(documents)"
   ]
  },
  {
   "cell_type": "code",
   "execution_count": null,
   "metadata": {},
   "outputs": [],
   "source": [
    "print documents[0]"
   ]
  },
  {
   "cell_type": "code",
   "execution_count": 40,
   "metadata": {},
   "outputs": [
    {
     "name": "stdout",
     "output_type": "stream",
     "text": [
      "1583820\n",
      "[u'plot', u':', u'two', u'teen', u'couples', u'go', u'to', u'a', u'church', u'party']\n"
     ]
    }
   ],
   "source": [
    "all_words = []\n",
    "for w in movie_reviews.words():\n",
    "    all_words.append(w.lower())\n",
    "print len(all_words)\n",
    "print all_words[:10]"
   ]
  },
  {
   "cell_type": "code",
   "execution_count": 41,
   "metadata": {},
   "outputs": [
    {
     "name": "stdout",
     "output_type": "stream",
     "text": [
      "39768\n",
      "[(u',', 77717), (u'the', 76529), (u'.', 65876), (u'a', 38106), (u'and', 35576), (u'of', 34123), (u'to', 31937), (u\"'\", 30585), (u'is', 25195), (u'in', 21822)]\n"
     ]
    }
   ],
   "source": [
    "all_words = nltk.FreqDist(all_words)\n",
    "print len(all_words)\n",
    "print all_words.most_common(10)"
   ]
  },
  {
   "cell_type": "code",
   "execution_count": 42,
   "metadata": {},
   "outputs": [
    {
     "name": "stdout",
     "output_type": "stream",
     "text": [
      "253\n",
      "2411\n",
      "1395\n",
      "99\n",
      "101\n",
      "29\n"
     ]
    }
   ],
   "source": [
    "print all_words[\"stupid\"]\n",
    "print all_words[\"good\"]\n",
    "print all_words[\"bad\"]\n",
    "print all_words[\"crazy\"]\n",
    "print all_words[\"ass\"]\n",
    "print all_words[\"sucks\"]"
   ]
  },
  {
   "cell_type": "code",
   "execution_count": 189,
   "metadata": {},
   "outputs": [],
   "source": [
    "word_features = list(all_words.keys())[:3000]\n",
    "\n",
    "def find_features(document):\n",
    "    words = set(document)\n",
    "    features = {}\n",
    "    for w in word_features:\n",
    "        features[w] = (w in words)\n",
    "        \n",
    "    return features\n",
    "\n",
    "#print ((find_features(movie_reviews.words('neg/cv000_29416.txt'))))"
   ]
  },
  {
   "cell_type": "code",
   "execution_count": 92,
   "metadata": {},
   "outputs": [],
   "source": [
    "featuresets = [(find_features(rev), category) for (rev, category) in documents]"
   ]
  },
  {
   "cell_type": "code",
   "execution_count": 93,
   "metadata": {
    "collapsed": true
   },
   "outputs": [],
   "source": [
    "train = featuresets[:1900]\n",
    "test = featuresets[1900:]"
   ]
  },
  {
   "cell_type": "markdown",
   "metadata": {},
   "source": [
    "### Naive Bayes"
   ]
  },
  {
   "cell_type": "code",
   "execution_count": 94,
   "metadata": {},
   "outputs": [
    {
     "name": "stdout",
     "output_type": "stream",
     "text": [
      "0.68\n",
      "Most Informative Features\n",
      "               uplifting = True              pos : neg    =     14.2 : 1.0\n",
      "               insulting = True              neg : pos    =     10.7 : 1.0\n",
      "                     ugh = True              neg : pos    =      9.1 : 1.0\n",
      "                    sans = True              neg : pos    =      9.1 : 1.0\n",
      "            refreshingly = True              pos : neg    =      8.3 : 1.0\n",
      "            effortlessly = True              pos : neg    =      7.3 : 1.0\n",
      "                 wasting = True              neg : pos    =      7.1 : 1.0\n",
      "              mediocrity = True              neg : pos    =      6.4 : 1.0\n",
      "               dismissed = True              pos : neg    =      6.3 : 1.0\n",
      "             overwhelmed = True              pos : neg    =      6.3 : 1.0\n"
     ]
    }
   ],
   "source": [
    "classifier = nltk.NaiveBayesClassifier.train(train)\n",
    "print nltk.classify.accuracy(classifier, test)\n",
    "classifier.show_most_informative_features(10)"
   ]
  },
  {
   "cell_type": "markdown",
   "metadata": {},
   "source": [
    "# Scikit classifiers"
   ]
  },
  {
   "cell_type": "markdown",
   "metadata": {},
   "source": [
    "## Individual"
   ]
  },
  {
   "cell_type": "markdown",
   "metadata": {},
   "source": [
    "### Multinomial Naive Bayes"
   ]
  },
  {
   "cell_type": "code",
   "execution_count": 106,
   "metadata": {},
   "outputs": [
    {
     "name": "stdout",
     "output_type": "stream",
     "text": [
      "MNB Classifier accuracy: 0.670000\n"
     ]
    }
   ],
   "source": [
    "mnbClassifier = SklearnClassifier(MultinomialNB())\n",
    "mnbClassifier.train(train)\n",
    "print 'MNB Classifier accuracy: %f' %  nltk.classify.accuracy(mnbClassifier, test)"
   ]
  },
  {
   "cell_type": "markdown",
   "metadata": {},
   "source": [
    "### Gaussian Naive Bayes"
   ]
  },
  {
   "cell_type": "code",
   "execution_count": null,
   "metadata": {},
   "outputs": [],
   "source": [
    "gnbClassifier = SklearnClassifier(GaussianNB())\n",
    "gnbClassifier.train(train)\n",
    "print 'GNB Classifier accuracy: %f' % nltk.classify.accuracy(gnbClassifier, test)"
   ]
  },
  {
   "cell_type": "markdown",
   "metadata": {},
   "source": [
    "### Bernoulli Naive Bayes"
   ]
  },
  {
   "cell_type": "code",
   "execution_count": 107,
   "metadata": {},
   "outputs": [
    {
     "name": "stdout",
     "output_type": "stream",
     "text": [
      "Bernouli NB Classifier accuracy: 0.680000\n"
     ]
    }
   ],
   "source": [
    "bnbClassifier = SklearnClassifier(BernoulliNB())\n",
    "bnbClassifier.train(train)\n",
    "print 'Bernouli NB Classifier accuracy: %f' % nltk.classify.accuracy(bnbClassifier, test)"
   ]
  },
  {
   "cell_type": "markdown",
   "metadata": {},
   "source": [
    "### Logistic Regression"
   ]
  },
  {
   "cell_type": "code",
   "execution_count": 108,
   "metadata": {},
   "outputs": [
    {
     "name": "stdout",
     "output_type": "stream",
     "text": [
      "Logistic Classifier accuracy: 0.600000\n"
     ]
    }
   ],
   "source": [
    "logClassifier = SklearnClassifier(LogisticRegression())\n",
    "logClassifier.train(train)\n",
    "print 'Logistic Classifier accuracy: %f' % nltk.classify.accuracy(logClassifier, test)"
   ]
  },
  {
   "cell_type": "markdown",
   "metadata": {},
   "source": [
    "### SGD Classifier"
   ]
  },
  {
   "cell_type": "code",
   "execution_count": 109,
   "metadata": {},
   "outputs": [
    {
     "name": "stdout",
     "output_type": "stream",
     "text": [
      "SGD Classifier accuracy: 0.620000\n"
     ]
    }
   ],
   "source": [
    "sgdClassifier = SklearnClassifier(SGDClassifier())\n",
    "sgdClassifier.train(train)\n",
    "print 'SGD Classifier accuracy: %f' % nltk.classify.accuracy(sgdClassifier, test)"
   ]
  },
  {
   "cell_type": "markdown",
   "metadata": {},
   "source": [
    "### SVC"
   ]
  },
  {
   "cell_type": "code",
   "execution_count": 110,
   "metadata": {},
   "outputs": [
    {
     "name": "stdout",
     "output_type": "stream",
     "text": [
      "SVC Classifier accuracy: 0.460000\n"
     ]
    }
   ],
   "source": [
    "svcClassifier = SklearnClassifier(SVC())\n",
    "svcClassifier.train(train)\n",
    "print 'SVC Classifier accuracy: %f' % nltk.classify.accuracy(svcClassifier, test)"
   ]
  },
  {
   "cell_type": "markdown",
   "metadata": {},
   "source": [
    "### Linear SVC"
   ]
  },
  {
   "cell_type": "code",
   "execution_count": 111,
   "metadata": {},
   "outputs": [
    {
     "name": "stdout",
     "output_type": "stream",
     "text": [
      "Linear SVC Classifier accuracy: 0.600000\n"
     ]
    }
   ],
   "source": [
    "linsvcClassifier = SklearnClassifier(LinearSVC())\n",
    "linsvcClassifier.train(train)\n",
    "print 'Linear SVC Classifier accuracy: %f' % nltk.classify.accuracy(linsvcClassifier, test)"
   ]
  },
  {
   "cell_type": "markdown",
   "metadata": {},
   "source": [
    "### NuSVC"
   ]
  },
  {
   "cell_type": "code",
   "execution_count": 112,
   "metadata": {},
   "outputs": [
    {
     "name": "stdout",
     "output_type": "stream",
     "text": [
      "NuSVC Classifier accuracy: 0.640000\n"
     ]
    }
   ],
   "source": [
    "nusvcClassifier = SklearnClassifier(NuSVC())\n",
    "nusvcClassifier.train(train)\n",
    "print 'NuSVC Classifier accuracy: %f' % nltk.classify.accuracy(nusvcClassifier, test)"
   ]
  },
  {
   "cell_type": "markdown",
   "metadata": {},
   "source": [
    "### Decision Tree"
   ]
  },
  {
   "cell_type": "code",
   "execution_count": 113,
   "metadata": {},
   "outputs": [
    {
     "name": "stdout",
     "output_type": "stream",
     "text": [
      "DecisioTree Classifier accuracy: 0.640000\n"
     ]
    }
   ],
   "source": [
    "dtClassifier = SklearnClassifier(DecisionTreeClassifier())\n",
    "dtClassifier.train(train)\n",
    "print 'DecisioTree Classifier accuracy: %f' % nltk.classify.accuracy(dtClassifier, test)"
   ]
  },
  {
   "cell_type": "markdown",
   "metadata": {},
   "source": [
    "### Random Forest"
   ]
  },
  {
   "cell_type": "code",
   "execution_count": 114,
   "metadata": {},
   "outputs": [
    {
     "name": "stdout",
     "output_type": "stream",
     "text": [
      "RandomForest Classifier accuracy: 0.620000\n"
     ]
    }
   ],
   "source": [
    "rfClassifier = SklearnClassifier(RandomForestClassifier())\n",
    "rfClassifier.train(train)\n",
    "print 'RandomForest Classifier accuracy: %f' % nltk.classify.accuracy(rfClassifier, test)"
   ]
  },
  {
   "cell_type": "markdown",
   "metadata": {},
   "source": [
    "### Gradient Boosting"
   ]
  },
  {
   "cell_type": "code",
   "execution_count": null,
   "metadata": {},
   "outputs": [],
   "source": [
    "gbClassifier = SklearnClassifier(GradientBoostingClassifier())\n",
    "gbClassifier.train(train)\n",
    "print 'Gradient Boosting Classifier accuracy: %f' % nltk.classify.accuracy(gbClassifier, test)"
   ]
  },
  {
   "cell_type": "markdown",
   "metadata": {},
   "source": [
    "## Voting"
   ]
  },
  {
   "cell_type": "code",
   "execution_count": 176,
   "metadata": {},
   "outputs": [],
   "source": [
    "class VoteClassifier(ClassifierI):\n",
    "    def __init__(self, *classifiers):\n",
    "        self._classifiers = classifiers\n",
    "    \n",
    "    def classify(self, features):\n",
    "        votes = []\n",
    "        for c in self._classifiers:\n",
    "            v = c.classify(features)\n",
    "            votes.append(v)\n",
    "        return mode(votes).mode[0]\n",
    "    \n",
    "    def confidence(self, feature):\n",
    "        votes = []\n",
    "        for c in self._classifiers:\n",
    "            v = c.classi fy(feature)\n",
    "            votes.append(v)\n",
    "        choice_votes = votes.count(mode(votes).mode[0])\n",
    "        conf = choice_votes / float(len(votes))\n",
    "        return conf"
   ]
  },
  {
   "cell_type": "code",
   "execution_count": 177,
   "metadata": {},
   "outputs": [
    {
     "name": "stdout",
     "output_type": "stream",
     "text": [
      "Voted Classifier Accuracy: 0.700000\n"
     ]
    }
   ],
   "source": [
    "voted_classifier = VoteClassifier(classifier,\n",
    "                                 mnbClassifier,\n",
    "                                 bnbClassifier,\n",
    "                                 linsvcClassifier,\n",
    "                                 nusvcClassifier,\n",
    "                                 logClassifier,\n",
    "                                 dtClassifier,\n",
    "                                 rfClassifier)\n",
    "\n",
    "print 'Voted Classifier Accuracy: %f' % nltk.classify.accuracy(voted_classifier, test)"
   ]
  },
  {
   "cell_type": "code",
   "execution_count": 183,
   "metadata": {},
   "outputs": [
    {
     "name": "stdout",
     "output_type": "stream",
     "text": [
      "Classification: neg, Confidence: 0.750000\n",
      "Classification: neg, Confidence: 1.000000\n",
      "Classification: neg, Confidence: 0.500000\n",
      "Classification: neg, Confidence: 0.500000\n",
      "Classification: pos, Confidence: 0.750000\n",
      "Classification: pos, Confidence: 1.000000\n",
      "Classification: neg, Confidence: 0.875000\n"
     ]
    }
   ],
   "source": [
    "print 'Classification: %s, Confidence: %f' % (voted_classifier.classify(test[0][0]), voted_classifier.confidence(test[0][0]))\n",
    "print 'Classification: %s, Confidence: %f' % (voted_classifier.classify(test[1][0]), voted_classifier.confidence(test[1][0]))\n",
    "print 'Classification: %s, Confidence: %f' % (voted_classifier.classify(test[2][0]), voted_classifier.confidence(test[2][0]))\n",
    "print 'Classification: %s, Confidence: %f' % (voted_classifier.classify(test[3][0]), voted_classifier.confidence(test[3][0]))\n",
    "print 'Classification: %s, Confidence: %f' % (voted_classifier.classify(test[4][0]), voted_classifier.confidence(test[4][0]))\n",
    "print 'Classification: %s, Confidence: %f' % (voted_classifier.classify(test[5][0]), voted_classifier.confidence(test[5][0]))\n",
    "print 'Classification: %s, Confidence: %f' % (voted_classifier.classify(test[6][0]), voted_classifier.confidence(test[6][0]))"
   ]
  },
  {
   "cell_type": "code",
   "execution_count": null,
   "metadata": {
    "collapsed": true
   },
   "outputs": [],
   "source": []
  },
  {
   "cell_type": "code",
   "execution_count": null,
   "metadata": {
    "collapsed": true
   },
   "outputs": [],
   "source": []
  },
  {
   "cell_type": "code",
   "execution_count": null,
   "metadata": {
    "collapsed": true
   },
   "outputs": [],
   "source": []
  },
  {
   "cell_type": "code",
   "execution_count": null,
   "metadata": {
    "collapsed": true
   },
   "outputs": [],
   "source": []
  }
 ],
 "metadata": {
  "kernelspec": {
   "display_name": "Python 2",
   "language": "python",
   "name": "python2"
  },
  "language_info": {
   "codemirror_mode": {
    "name": "ipython",
    "version": 2
   },
   "file_extension": ".py",
   "mimetype": "text/x-python",
   "name": "python",
   "nbconvert_exporter": "python",
   "pygments_lexer": "ipython2",
   "version": "2.7.13"
  }
 },
 "nbformat": 4,
 "nbformat_minor": 2
}
