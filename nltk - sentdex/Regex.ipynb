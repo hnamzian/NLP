{
 "cells": [
  {
   "cell_type": "code",
   "execution_count": 257,
   "metadata": {},
   "outputs": [],
   "source": [
    "import re"
   ]
  },
  {
   "cell_type": "markdown",
   "metadata": {},
   "source": [
    "### Identifiers:\n",
    "\n",
    "\\d = any number\n",
    "\n",
    "\\D = anything but a number\n",
    "\n",
    "\\s = space\n",
    "\n",
    "\\S = anything but a space\n",
    "\n",
    "\\w = any letter\n",
    "\n",
    "\\W = anything but a letter\n",
    "\n",
    ". = any character, except for a new line\n",
    "\n",
    "\\b = space around whole words\n",
    "\n",
    "\\. = period. must use backslash, because . normally means any character.\n",
    "\n",
    "\n",
    "### Modifiers:\n",
    "\n",
    "{1,3} = for digits, u expect 1-3 counts of digits, or \"places\"\n",
    "\n",
    "\\+ = match 1 or more\n",
    "\n",
    "? = match 0 or 1 repetitions.\n",
    "\n",
    "\\* = match 0 or MORE repetitions\n",
    "\n",
    "$ = matches at the end of string\n",
    "\n",
    "^ = matches start of a string\n",
    "\n",
    "| = matches either/or. Example x|y = will match either x or y\n",
    "\n",
    "[] = range, or \"variance\"\n",
    "\n",
    "{x} = expect to see this amount of the preceding code.\n",
    "\n",
    "{x,y} = expect to see this x-y amounts of the preceding code\n",
    "\n",
    "### White Space Charts:\n",
    "\n",
    "\\n = new line\n",
    "\n",
    "\\s = space\n",
    "\n",
    "\\t = tab\n",
    "\n",
    "\\e = escape\n",
    "\n",
    "\\f = form feed\n",
    "\n",
    "\\r = carriage return\n",
    "\n",
    "### Characters to REMEMBER TO ESCAPE IF USED!\n",
    "\n",
    ". + * ? [ ] $ ^ ( ) { } | \\\n",
    "\n",
    "### Brackets:\n",
    "\n",
    "[] = quant[ia]tative = will find either quantitative, or quantatative.\n",
    "\n",
    "[a-z] = return any lowercase letter a-z\n",
    "\n",
    "[1-5a-qA-Z] = return all numbers 1-5, lowercase letters a-q and uppercase A-Z"
   ]
  },
  {
   "cell_type": "code",
   "execution_count": 258,
   "metadata": {},
   "outputs": [],
   "source": [
    "exampleString = 'Jessica likes gray and Juaan likes green and Aaaaon likes greay are 15 or 0x0f years old, \\\n",
    "and Daniel is 27 or 0x1B years old. Edward is 97 years old, and his grandfather writes gry wrongly, Oscar, is 102 or 0x66.'"
   ]
  },
  {
   "cell_type": "code",
   "execution_count": 259,
   "metadata": {},
   "outputs": [
    {
     "name": "stdout",
     "output_type": "stream",
     "text": [
      "['J', 'e', 's', 's', 'i', 'c', 'a', ' ', 'l', 'i', 'k', 'e', 's', ' ', 'g', 'r', 'a', 'y', ' ', 'a', 'n', 'd', ' ', 'J', 'u', 'a', 'a', 'n', ' ', 'l', 'i', 'k', 'e', 's', ' ', 'g', 'r', 'e', 'e', 'n', ' ', 'a', 'n', 'd', ' ', 'A', 'a', 'a', 'a', 'o', 'n', ' ', 'l', 'i', 'k', 'e', 's', ' ', 'g', 'r', 'e', 'a', 'y', ' ', 'a', 'r', 'e', ' ', '1', '5', ' ', 'o', 'r', ' ', '0', 'x', '0', 'f', ' ', 'y', 'e', 'a', 'r', 's', ' ', 'o', 'l', 'd', ',', ' ', 'a', 'n', 'd', ' ', 'D', 'a', 'n', 'i', 'e', 'l', ' ', 'i', 's', ' ', '2', '7', ' ', 'o', 'r', ' ', '0', 'x', '1', 'B', ' ', 'y', 'e', 'a', 'r', 's', ' ', 'o', 'l', 'd', '.', ' ', 'E', 'd', 'w', 'a', 'r', 'd', ' ', 'i', 's', ' ', '9', '7', ' ', 'y', 'e', 'a', 'r', 's', ' ', 'o', 'l', 'd', ',', ' ', 'a', 'n', 'd', ' ', 'h', 'i', 's', ' ', 'g', 'r', 'a', 'n', 'd', 'f', 'a', 't', 'h', 'e', 'r', ' ', 'w', 'r', 'i', 't', 'e', 's', ' ', 'g', 'r', 'y', ' ', 'w', 'r', 'o', 'n', 'g', 'l', 'y', ',', ' ', 'O', 's', 'c', 'a', 'r', ',', ' ', 'i', 's', ' ', '1', '0', '2', ' ', 'o', 'r', ' ', '0', 'x', '6', '6', '.']\n"
     ]
    }
   ],
   "source": [
    "print re.findall(r'.',exampleString)"
   ]
  },
  {
   "cell_type": "code",
   "execution_count": 260,
   "metadata": {},
   "outputs": [
    {
     "name": "stdout",
     "output_type": "stream",
     "text": [
      "['J', 'e', 's', 's', 'i', 'c', 'a', 'l', 'i', 'k', 'e', 's', 'g', 'r', 'a', 'y', 'a', 'n', 'd', 'J', 'u', 'a', 'a', 'n', 'l', 'i', 'k', 'e', 's', 'g', 'r', 'e', 'e', 'n', 'a', 'n', 'd', 'A', 'a', 'a', 'a', 'o', 'n', 'l', 'i', 'k', 'e', 's', 'g', 'r', 'e', 'a', 'y', 'a', 'r', 'e', '1', '5', 'o', 'r', '0', 'x', '0', 'f', 'y', 'e', 'a', 'r', 's', 'o', 'l', 'd', 'a', 'n', 'd', 'D', 'a', 'n', 'i', 'e', 'l', 'i', 's', '2', '7', 'o', 'r', '0', 'x', '1', 'B', 'y', 'e', 'a', 'r', 's', 'o', 'l', 'd', 'E', 'd', 'w', 'a', 'r', 'd', 'i', 's', '9', '7', 'y', 'e', 'a', 'r', 's', 'o', 'l', 'd', 'a', 'n', 'd', 'h', 'i', 's', 'g', 'r', 'a', 'n', 'd', 'f', 'a', 't', 'h', 'e', 'r', 'w', 'r', 'i', 't', 'e', 's', 'g', 'r', 'y', 'w', 'r', 'o', 'n', 'g', 'l', 'y', 'O', 's', 'c', 'a', 'r', 'i', 's', '1', '0', '2', 'o', 'r', '0', 'x', '6', '6']\n"
     ]
    }
   ],
   "source": [
    "print re.findall(r'\\w',exampleString)"
   ]
  },
  {
   "cell_type": "code",
   "execution_count": 261,
   "metadata": {},
   "outputs": [
    {
     "name": "stdout",
     "output_type": "stream",
     "text": [
      "[' ', ' ', ' ', ' ', ' ', ' ', ' ', ' ', ' ', ' ', ' ', ' ', ' ', ' ', ' ', ' ', ',', ' ', ' ', ' ', ' ', ' ', ' ', ' ', ' ', '.', ' ', ' ', ' ', ' ', ' ', ',', ' ', ' ', ' ', ' ', ' ', ' ', ',', ' ', ',', ' ', ' ', ' ', ' ', '.']\n"
     ]
    }
   ],
   "source": [
    "print re.findall(r'\\W',exampleString)"
   ]
  },
  {
   "cell_type": "code",
   "execution_count": 262,
   "metadata": {},
   "outputs": [
    {
     "name": "stdout",
     "output_type": "stream",
     "text": [
      "['1', '5', '0', '0', '2', '7', '0', '1', '9', '7', '1', '0', '2', '0', '6', '6']\n"
     ]
    }
   ],
   "source": [
    "print re.findall(r'\\d',exampleString)"
   ]
  },
  {
   "cell_type": "code",
   "execution_count": 263,
   "metadata": {},
   "outputs": [
    {
     "name": "stdout",
     "output_type": "stream",
     "text": [
      "['J', 'e', 's', 's', 'i', 'c', 'a', ' ', 'l', 'i', 'k', 'e', 's', ' ', 'g', 'r', 'a', 'y', ' ', 'a', 'n', 'd', ' ', 'J', 'u', 'a', 'a', 'n', ' ', 'l', 'i', 'k', 'e', 's', ' ', 'g', 'r', 'e', 'e', 'n', ' ', 'a', 'n', 'd', ' ', 'A', 'a', 'a', 'a', 'o', 'n', ' ', 'l', 'i', 'k', 'e', 's', ' ', 'g', 'r', 'e', 'a', 'y', ' ', 'a', 'r', 'e', ' ', ' ', 'o', 'r', ' ', 'x', 'f', ' ', 'y', 'e', 'a', 'r', 's', ' ', 'o', 'l', 'd', ',', ' ', 'a', 'n', 'd', ' ', 'D', 'a', 'n', 'i', 'e', 'l', ' ', 'i', 's', ' ', ' ', 'o', 'r', ' ', 'x', 'B', ' ', 'y', 'e', 'a', 'r', 's', ' ', 'o', 'l', 'd', '.', ' ', 'E', 'd', 'w', 'a', 'r', 'd', ' ', 'i', 's', ' ', ' ', 'y', 'e', 'a', 'r', 's', ' ', 'o', 'l', 'd', ',', ' ', 'a', 'n', 'd', ' ', 'h', 'i', 's', ' ', 'g', 'r', 'a', 'n', 'd', 'f', 'a', 't', 'h', 'e', 'r', ' ', 'w', 'r', 'i', 't', 'e', 's', ' ', 'g', 'r', 'y', ' ', 'w', 'r', 'o', 'n', 'g', 'l', 'y', ',', ' ', 'O', 's', 'c', 'a', 'r', ',', ' ', 'i', 's', ' ', ' ', 'o', 'r', ' ', 'x', '.']\n"
     ]
    }
   ],
   "source": [
    "print re.findall(r'\\D',exampleString)"
   ]
  },
  {
   "cell_type": "code",
   "execution_count": 264,
   "metadata": {},
   "outputs": [
    {
     "name": "stdout",
     "output_type": "stream",
     "text": [
      "['e', 's', 's', 'i', 'c', 'a', 'l', 'i', 'k', 'e', 's', 'g', 'r', 'a', 'y', 'a', 'n', 'd', 'u', 'a', 'a', 'n', 'l', 'i', 'k', 'e', 's', 'g', 'r', 'e', 'e', 'n', 'a', 'n', 'd', 'a', 'a', 'a', 'o', 'n', 'l', 'i', 'k', 'e', 's', 'g', 'r', 'e', 'a', 'y', 'a', 'r', 'e', 'o', 'r', 'x', 'f', 'y', 'e', 'a', 'r', 's', 'o', 'l', 'd', 'a', 'n', 'd', 'a', 'n', 'i', 'e', 'l', 'i', 's', 'o', 'r', 'x', 'y', 'e', 'a', 'r', 's', 'o', 'l', 'd', 'd', 'w', 'a', 'r', 'd', 'i', 's', 'y', 'e', 'a', 'r', 's', 'o', 'l', 'd', 'a', 'n', 'd', 'h', 'i', 's', 'g', 'r', 'a', 'n', 'd', 'f', 'a', 't', 'h', 'e', 'r', 'w', 'r', 'i', 't', 'e', 's', 'g', 'r', 'y', 'w', 'r', 'o', 'n', 'g', 'l', 'y', 's', 'c', 'a', 'r', 'i', 's', 'o', 'r', 'x']\n"
     ]
    }
   ],
   "source": [
    "print re.findall(r'[a-z]',exampleString)"
   ]
  },
  {
   "cell_type": "code",
   "execution_count": 265,
   "metadata": {},
   "outputs": [
    {
     "name": "stdout",
     "output_type": "stream",
     "text": [
      "['J', 'J', 'A', 'D', 'B', 'E', 'O']\n"
     ]
    }
   ],
   "source": [
    "print re.findall(r'[A-Z]',exampleString)"
   ]
  },
  {
   "cell_type": "code",
   "execution_count": 266,
   "metadata": {},
   "outputs": [
    {
     "name": "stdout",
     "output_type": "stream",
     "text": [
      "['J', 'J', 'A', '1', '5', '0', '0', 'D', '2', '7', '0', '1', 'B', 'E', '9', '7', 'O', '1', '0', '2', '0', '6', '6']\n"
     ]
    }
   ],
   "source": [
    "print re.findall(r'[A-Z0-9]',exampleString)"
   ]
  },
  {
   "cell_type": "code",
   "execution_count": 267,
   "metadata": {},
   "outputs": [
    {
     "name": "stdout",
     "output_type": "stream",
     "text": [
      "['', '', '', '', '', '', '', '', '', '', '', '', '', '', '', '', '', '', '', '', '', '', '', '', '', '', '', '', '', '', '', '', '', '', '', '', '', '', '', '', '', '', '', '', '', '', '', '', '', '', '', '', '', '', '', '', '', '', '', '', '', '', '', '', '', '', '', '', '', '', '', '', '', '', '', '', '', '', '', '', '', '']\n"
     ]
    }
   ],
   "source": [
    "print re.findall(r'\\b',exampleString)"
   ]
  },
  {
   "cell_type": "code",
   "execution_count": 268,
   "metadata": {},
   "outputs": [
    {
     "name": "stdout",
     "output_type": "stream",
     "text": [
      "['Jessica']\n"
     ]
    }
   ],
   "source": [
    "print re.findall(r'Jessica',exampleString)"
   ]
  },
  {
   "cell_type": "code",
   "execution_count": 269,
   "metadata": {},
   "outputs": [
    {
     "name": "stdout",
     "output_type": "stream",
     "text": [
      "['J', 'e', 's', 's', 'i', 'c', 'a', 'i', 'e', 's', 'a', 'a', 'J', 'a', 'a', 'i', 'e', 's', 'e', 'e', 'a', 'a', 'a', 'a', 'i', 'e', 's', 'e', 'a', 'a', 'e', 'e', 'a', 's', 'a', 'a', 'i', 'e', 'i', 's', 'e', 'a', 's', 'a', 'i', 's', 'e', 'a', 's', 'a', 'i', 's', 'a', 'a', 'e', 'i', 'e', 's', 's', 'c', 'a', 'i', 's']\n"
     ]
    }
   ],
   "source": [
    "print re.findall(r'[Jessica]',exampleString)"
   ]
  },
  {
   "cell_type": "code",
   "execution_count": 270,
   "metadata": {},
   "outputs": [
    {
     "name": "stdout",
     "output_type": "stream",
     "text": [
      "['a', 'a', 'a', 'aa', 'a', 'aaa', 'a', 'a', 'a', 'a', 'a', 'a', 'a', 'a', 'a', 'a', 'a', 'a']\n",
      "['Jess', 'Juaa']\n"
     ]
    }
   ],
   "source": [
    "print re.findall(r'a{1,3}',exampleString)\n",
    "print re.findall(r'J.{1,3}',exampleString)"
   ]
  },
  {
   "cell_type": "code",
   "execution_count": 271,
   "metadata": {},
   "outputs": [
    {
     "name": "stdout",
     "output_type": "stream",
     "text": [
      "['0x0f', '0x1B', '0x66']\n"
     ]
    }
   ],
   "source": [
    "print re.findall(r'0x[A-za-z0-9]{1,4}',exampleString)"
   ]
  },
  {
   "cell_type": "markdown",
   "metadata": {},
   "source": [
    "### {1,3}, *, +, ?"
   ]
  },
  {
   "cell_type": "code",
   "execution_count": 272,
   "metadata": {},
   "outputs": [
    {
     "name": "stdout",
     "output_type": "stream",
     "text": [
      "['gray']\n",
      "['gray', 'greay']\n",
      "['gray', 'gran']\n",
      "['gray', 'green', 'greay', 'gran']\n",
      "['gray', 'gran', 'gry']\n",
      "['gray', 'green', 'greay', 'gran', 'gry']\n"
     ]
    }
   ],
   "source": [
    "print re.findall(r'gr[ea]y',exampleString)\n",
    "print re.findall(r'gr[ea]{1,2}y',exampleString)\n",
    "print re.findall(r'gr[ea][ny]',exampleString)\n",
    "print re.findall(r'gr[ea]+[ny]',exampleString)\n",
    "print re.findall(r'gr[ea]?[ny]',exampleString)\n",
    "print re.findall(r'gr[ea]*[ny]',exampleString)"
   ]
  },
  {
   "cell_type": "code",
   "execution_count": 273,
   "metadata": {},
   "outputs": [
    {
     "name": "stdout",
     "output_type": "stream",
     "text": [
      "['is', 'is']\n"
     ]
    }
   ],
   "source": [
    "print re.findall(r'\\bis\\b','@is island is beautiful')"
   ]
  },
  {
   "cell_type": "code",
   "execution_count": 287,
   "metadata": {},
   "outputs": [
    {
     "name": "stdout",
     "output_type": "stream",
     "text": [
      "['Jessica', 'Juaan']\n"
     ]
    }
   ],
   "source": [
    "print re.findall(r\"\"\"Jessica|Juaan\"\"\", exampleString)"
   ]
  },
  {
   "cell_type": "code",
   "execution_count": 274,
   "metadata": {},
   "outputs": [
    {
     "name": "stdout",
     "output_type": "stream",
     "text": [
      "['15', '0', '0', '27', '0', '1', '97', '102', '0', '66']\n",
      "['Jessica', 'Juaan', 'Aaaaon', 'Daniel', 'B', 'Edward', 'Oscar']\n"
     ]
    }
   ],
   "source": [
    "ages = re.findall(r'\\d{1,3}',exampleString)\n",
    "names = re.findall(r'[A-Z][a-z]*',exampleString)\n",
    "\n",
    "print(ages)\n",
    "print(names)"
   ]
  },
  {
   "cell_type": "code",
   "execution_count": null,
   "metadata": {},
   "outputs": [],
   "source": []
  }
 ],
 "metadata": {
  "kernelspec": {
   "display_name": "Python 2",
   "language": "python",
   "name": "python2"
  },
  "language_info": {
   "codemirror_mode": {
    "name": "ipython",
    "version": 2
   },
   "file_extension": ".py",
   "mimetype": "text/x-python",
   "name": "python",
   "nbconvert_exporter": "python",
   "pygments_lexer": "ipython2",
   "version": "2.7.13"
  }
 },
 "nbformat": 4,
 "nbformat_minor": 2
}
