{
 "cells": [
  {
   "cell_type": "code",
   "execution_count": 12,
   "metadata": {
    "collapsed": true
   },
   "outputs": [],
   "source": [
    "import nltk\n",
    "import random\n",
    "from nltk.tokenize import word_tokenize\n",
    "from nltk.classify.scikitlearn import SklearnClassifier\n",
    "from sklearn.naive_bayes import MultinomialNB, GaussianNB, BernoulliNB\n",
    "from sklearn.linear_model import LogisticRegression, SGDClassifier\n",
    "from sklearn.svm import SVC, LinearSVC, NuSVC\n",
    "from sklearn.tree import DecisionTreeClassifier\n",
    "from sklearn.ensemble import RandomForestClassifier\n",
    "from sklearn.ensemble import GradientBoostingClassifier\n",
    "from nltk.classify import ClassifierI\n",
    "from scipy.stats import mode\n",
    "import pickle"
   ]
  },
  {
   "cell_type": "code",
   "execution_count": 19,
   "metadata": {},
   "outputs": [],
   "source": [
    "rev_pos = open('./data/short_reviews/positive.txt', 'r').read().decode('ISO-8859-1')\n",
    "rev_neg = open('./data/short_reviews/positive.txt', 'r').read().decode('ISO-8859-1')"
   ]
  },
  {
   "cell_type": "code",
   "execution_count": 20,
   "metadata": {},
   "outputs": [
    {
     "name": "stdout",
     "output_type": "stream",
     "text": [
      "10664\n"
     ]
    }
   ],
   "source": [
    "documents = []\n",
    "for rev in rev_pos.split('\\n'):\n",
    "    documents.append( (rev, 'pos') )\n",
    "    \n",
    "for rev in rev_neg.split('\\n'):\n",
    "    documents.append( (rev, 'neg') )\n",
    "\n",
    "#random.shuffle(documents)\n",
    "\n",
    "print len(documents)"
   ]
  },
  {
   "cell_type": "code",
   "execution_count": 21,
   "metadata": {},
   "outputs": [
    {
     "name": "stdout",
     "output_type": "stream",
     "text": [
      "13453\n"
     ]
    }
   ],
   "source": [
    "all_words = []\n",
    "\n",
    "words_pos = word_tokenize(rev_pos)\n",
    "words_neg = word_tokenize(rev_neg)\n",
    "\n",
    "for w in words_pos:\n",
    "    all_words.append(w.lower())\n",
    "\n",
    "for w in words_neg:\n",
    "    all_words.append(w.lower())\n",
    "    \n",
    "all_words = nltk.FreqDist(all_words)\n",
    "\n",
    "print len(all_words)"
   ]
  },
  {
   "cell_type": "code",
   "execution_count": 30,
   "metadata": {},
   "outputs": [],
   "source": [
    "word_features = list(all_words.keys())[:3000]\n",
    "\n",
    "def find_features(document):\n",
    "    words = word_tokenize(document)\n",
    "    features = {}\n",
    "    for w in word_features:\n",
    "        features[w] = (w in words)\n",
    "        \n",
    "    return features"
   ]
  },
  {
   "cell_type": "code",
   "execution_count": 31,
   "metadata": {},
   "outputs": [],
   "source": [
    "featuresets = [(find_features(rev), category) for (rev, category) in documents]"
   ]
  },
  {
   "cell_type": "code",
   "execution_count": 32,
   "metadata": {
    "collapsed": true
   },
   "outputs": [],
   "source": [
    "random.shuffle(featuresets)"
   ]
  },
  {
   "cell_type": "code",
   "execution_count": 33,
   "metadata": {
    "collapsed": true
   },
   "outputs": [],
   "source": [
    "train = featuresets[:9000]\n",
    "test = featuresets[9000:]"
   ]
  },
  {
   "cell_type": "markdown",
   "metadata": {},
   "source": [
    "# Classification"
   ]
  },
  {
   "cell_type": "markdown",
   "metadata": {},
   "source": [
    "### Naive Bayes"
   ]
  },
  {
   "cell_type": "code",
   "execution_count": 34,
   "metadata": {},
   "outputs": [
    {
     "name": "stdout",
     "output_type": "stream",
     "text": [
      "Naive Bayes Accuracy: 0.222957\n",
      "Most Informative Features\n",
      "                    spin = True              neg : pos    =      3.0 : 1.0\n",
      "                  accept = True              neg : pos    =      3.0 : 1.0\n",
      "               disarming = True              neg : pos    =      3.0 : 1.0\n",
      "                  hoping = True              pos : neg    =      2.3 : 1.0\n",
      "                 leaping = True              pos : neg    =      2.3 : 1.0\n",
      "              goldmember = True              pos : neg    =      2.3 : 1.0\n",
      "                      se = True              pos : neg    =      2.3 : 1.0\n",
      "                     san = True              pos : neg    =      2.3 : 1.0\n",
      "                     ver = True              pos : neg    =      2.3 : 1.0\n",
      "                    cops = True              pos : neg    =      2.3 : 1.0\n"
     ]
    }
   ],
   "source": [
    "classifier = nltk.NaiveBayesClassifier.train(train)\n",
    "print 'Naive Bayes Accuracy: %f' % nltk.classify.accuracy(classifier, test)\n",
    "classifier.show_most_informative_features(10)"
   ]
  },
  {
   "cell_type": "markdown",
   "metadata": {},
   "source": [
    "### Multinomial Naive Bayes"
   ]
  },
  {
   "cell_type": "code",
   "execution_count": null,
   "metadata": {},
   "outputs": [],
   "source": [
    "mnbClassifier = SklearnClassifier(MultinomialNB())\n",
    "mnbClassifier.train(train)\n",
    "print 'MNB Classifier accuracy: %f' %  nltk.classify.accuracy(mnbClassifier, test)"
   ]
  },
  {
   "cell_type": "markdown",
   "metadata": {},
   "source": [
    "### Bernoulli Naive Bayes"
   ]
  },
  {
   "cell_type": "code",
   "execution_count": null,
   "metadata": {},
   "outputs": [],
   "source": [
    "bnbClassifier = SklearnClassifier(BernoulliNB())\n",
    "bnbClassifier.train(train)\n",
    "print 'Bernouli NB Classifier accuracy: %f' % nltk.classify.accuracy(bnbClassifier, test)"
   ]
  },
  {
   "cell_type": "markdown",
   "metadata": {},
   "source": [
    "### Logistic Regression"
   ]
  },
  {
   "cell_type": "code",
   "execution_count": 13,
   "metadata": {},
   "outputs": [
    {
     "name": "stdout",
     "output_type": "stream",
     "text": [
      "Logistic Classifier accuracy: 0.030120\n"
     ]
    }
   ],
   "source": [
    "logClassifier = SklearnClassifier(LogisticRegression())\n",
    "logClassifier.train(train)\n",
    "print 'Logistic Classifier accuracy: %f' % nltk.classify.accuracy(logClassifier, test)"
   ]
  },
  {
   "cell_type": "markdown",
   "metadata": {},
   "source": [
    "### SGD Classifier"
   ]
  },
  {
   "cell_type": "code",
   "execution_count": null,
   "metadata": {},
   "outputs": [],
   "source": [
    "sgdClassifier = SklearnClassifier(SGDClassifier())\n",
    "sgdClassifier.train(train)\n",
    "print 'SGD Classifier accuracy: %f' % nltk.classify.accuracy(sgdClassifier, test)"
   ]
  },
  {
   "cell_type": "markdown",
   "metadata": {},
   "source": [
    "### SVC"
   ]
  },
  {
   "cell_type": "code",
   "execution_count": null,
   "metadata": {},
   "outputs": [],
   "source": [
    "svcClassifier = SklearnClassifier(SVC())\n",
    "svcClassifier.train(train)\n",
    "print 'SVC Classifier accuracy: %f' % nltk.classify.accuracy(svcClassifier, test)"
   ]
  },
  {
   "cell_type": "markdown",
   "metadata": {},
   "source": [
    "### Linear SVC"
   ]
  },
  {
   "cell_type": "code",
   "execution_count": null,
   "metadata": {},
   "outputs": [],
   "source": [
    "linsvcClassifier = SklearnClassifier(LinearSVC())\n",
    "linsvcClassifier.train(train)\n",
    "print 'Linear SVC Classifier accuracy: %f' % nltk.classify.accuracy(linsvcClassifier, test)"
   ]
  },
  {
   "cell_type": "markdown",
   "metadata": {},
   "source": [
    "### NuSVC"
   ]
  },
  {
   "cell_type": "code",
   "execution_count": null,
   "metadata": {},
   "outputs": [],
   "source": [
    "nusvcClassifier = SklearnClassifier(NuSVC())\n",
    "nusvcClassifier.train(train)\n",
    "print 'NuSVC Classifier accuracy: %f' % nltk.classify.accuracy(nusvcClassifier, test)"
   ]
  },
  {
   "cell_type": "markdown",
   "metadata": {},
   "source": [
    "### Decision Tree"
   ]
  },
  {
   "cell_type": "code",
   "execution_count": null,
   "metadata": {},
   "outputs": [],
   "source": [
    "dtClassifier = SklearnClassifier(DecisionTreeClassifier())\n",
    "dtClassifier.train(train)\n",
    "print 'DecisioTree Classifier accuracy: %f' % nltk.classify.accuracy(dtClassifier, test)"
   ]
  },
  {
   "cell_type": "markdown",
   "metadata": {},
   "source": [
    "### Random Forest"
   ]
  },
  {
   "cell_type": "code",
   "execution_count": null,
   "metadata": {},
   "outputs": [],
   "source": [
    "rfClassifier = SklearnClassifier(RandomForestClassifier())\n",
    "rfClassifier.train(train)\n",
    "print 'RandomForest Classifier accuracy: %f' % nltk.classify.accuracy(rfClassifier, test)"
   ]
  },
  {
   "cell_type": "markdown",
   "metadata": {},
   "source": [
    "## Voting"
   ]
  },
  {
   "cell_type": "code",
   "execution_count": null,
   "metadata": {
    "collapsed": true
   },
   "outputs": [],
   "source": [
    "class VoteClassifier(ClassifierI):\n",
    "    def __init__(self, *classifiers):\n",
    "        self._classifiers = classifiers\n",
    "    \n",
    "    def classify(self, features):\n",
    "        votes = []\n",
    "        for c in self._classifiers:\n",
    "            v = c.classify(features)\n",
    "            votes.append(v)\n",
    "        return mode(votes).mode[0]\n",
    "    \n",
    "    def confidence(self, feature):\n",
    "        votes = []\n",
    "        for c in self._classifiers:\n",
    "            v = c.classify(feature)\n",
    "            votes.append(v)\n",
    "        choice_votes = votes.count(mode(votes).mode[0])\n",
    "        conf = choice_votes / float(len(votes))\n",
    "        return conf"
   ]
  },
  {
   "cell_type": "code",
   "execution_count": null,
   "metadata": {},
   "outputs": [],
   "source": [
    "voted_classifier = VoteClassifier(classifier,\n",
    "                                 mnbClassifier,\n",
    "                                 bnbClassifier,\n",
    "                                 linsvcClassifier,\n",
    "                                 nusvcClassifier,\n",
    "                                 logClassifier,\n",
    "                                 dtClassifier,\n",
    "                                 rfClassifier)\n",
    "\n",
    "print 'Voted Classifier Accuracy: %f' % nltk.classify.accuracy(voted_classifier, test)"
   ]
  },
  {
   "cell_type": "code",
   "execution_count": null,
   "metadata": {},
   "outputs": [],
   "source": [
    "print 'Classification: %s, Confidence: %f' % (voted_classifier.classify(test[0][0]), voted_classifier.confidence(test[0][0]))\n",
    "print 'Classification: %s, Confidence: %f' % (voted_classifier.classify(test[1][0]), voted_classifier.confidence(test[1][0]))\n",
    "print 'Classification: %s, Confidence: %f' % (voted_classifier.classify(test[2][0]), voted_classifier.confidence(test[2][0]))\n",
    "print 'Classification: %s, Confidence: %f' % (voted_classifier.classify(test[3][0]), voted_classifier.confidence(test[3][0]))\n",
    "print 'Classification: %s, Confidence: %f' % (voted_classifier.classify(test[4][0]), voted_classifier.confidence(test[4][0]))\n",
    "print 'Classification: %s, Confidence: %f' % (voted_classifier.classify(test[5][0]), voted_classifier.confidence(test[5][0]))\n",
    "print 'Classification: %s, Confidence: %f' % (voted_classifier.classify(test[6][0]), voted_classifier.confidence(test[6][0]))"
   ]
  },
  {
   "cell_type": "code",
   "execution_count": null,
   "metadata": {
    "collapsed": true
   },
   "outputs": [],
   "source": []
  },
  {
   "cell_type": "code",
   "execution_count": null,
   "metadata": {
    "collapsed": true
   },
   "outputs": [],
   "source": []
  },
  {
   "cell_type": "code",
   "execution_count": null,
   "metadata": {
    "collapsed": true
   },
   "outputs": [],
   "source": []
  },
  {
   "cell_type": "code",
   "execution_count": null,
   "metadata": {
    "collapsed": true
   },
   "outputs": [],
   "source": []
  },
  {
   "cell_type": "code",
   "execution_count": null,
   "metadata": {
    "collapsed": true
   },
   "outputs": [],
   "source": []
  },
  {
   "cell_type": "code",
   "execution_count": null,
   "metadata": {
    "collapsed": true
   },
   "outputs": [],
   "source": []
  }
 ],
 "metadata": {
  "kernelspec": {
   "display_name": "Python 2",
   "language": "python",
   "name": "python2"
  },
  "language_info": {
   "codemirror_mode": {
    "name": "ipython",
    "version": 2
   },
   "file_extension": ".py",
   "mimetype": "text/x-python",
   "name": "python",
   "nbconvert_exporter": "python",
   "pygments_lexer": "ipython2",
   "version": "2.7.13"
  }
 },
 "nbformat": 4,
 "nbformat_minor": 2
}
